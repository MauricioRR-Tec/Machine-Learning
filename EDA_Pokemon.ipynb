{
  "nbformat": 4,
  "nbformat_minor": 0,
  "metadata": {
    "colab": {
      "name": "EDA_Pokemon.ipynb",
      "provenance": [],
      "authorship_tag": "ABX9TyNjCKqfagQpcvBsTsyo/4q8",
      "include_colab_link": true
    },
    "kernelspec": {
      "name": "python3",
      "display_name": "Python 3"
    }
  },
  "cells": [
    {
      "cell_type": "markdown",
      "metadata": {
        "id": "view-in-github",
        "colab_type": "text"
      },
      "source": [
        "<a href=\"https://colab.research.google.com/github/MauricioRR-Tec/Machine-Learning/blob/master/EDA_Pokemon.ipynb\" target=\"_parent\"><img src=\"https://colab.research.google.com/assets/colab-badge.svg\" alt=\"Open In Colab\"/></a>"
      ]
    },
    {
      "cell_type": "markdown",
      "metadata": {
        "id": "aPqLfztIKFmO"
      },
      "source": [
        "<img src= \"https://as.com/meristation/imagenes/2020/02/13/noticias/1581576624_508899_1581576871_noticia_normal.jpg\"/>"
      ]
    },
    {
      "cell_type": "markdown",
      "metadata": {
        "id": "BufgiynhKViT"
      },
      "source": [
        "Para su análisis, podemos basarnos en las siguientes notebooks:\n",
        "\n",
        "## Pokemon: EDA with Plotly\n",
        "https://www.kaggle.com/bryanb/pokemon-eda-with-plotly\n",
        "\n",
        "## Basic EDA and clustering\n",
        "https://www.kaggle.com/brunovr/basic-eda-and-clustering"
      ]
    },
    {
      "cell_type": "markdown",
      "metadata": {
        "id": "C4nYRP2TKs06"
      },
      "source": [
        "La idea es realizar un análisis exploratorio de las estadísticas de los diferentes tipos de pokemon de las generaciones 1 a 8. Además el uso de algún modelo de aprendizaje para toma de decisiones."
      ]
    },
    {
      "cell_type": "code",
      "metadata": {
        "id": "v1_fuL9KFST6"
      },
      "source": [
        ""
      ],
      "execution_count": null,
      "outputs": []
    }
  ]
}